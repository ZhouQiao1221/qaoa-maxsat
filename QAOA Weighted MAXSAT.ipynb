{
 "cells": [
  {
   "cell_type": "markdown",
   "metadata": {},
   "source": [
    "# QAOA Weighted MAXSAT\n",
    "\n",
    "Gahwon Lee, Andrew Tan"
   ]
  },
  {
   "cell_type": "code",
   "execution_count": 25,
   "metadata": {},
   "outputs": [],
   "source": [
    "import qiskit\n",
    "import numpy as np\n",
    "import random as rand\n",
    "import math\n",
    "import matplotlib.pyplot as plt\n",
    "from mpl_toolkits.mplot3d import Axes3D"
   ]
  },
  {
   "cell_type": "markdown",
   "metadata": {},
   "source": [
    "## Introduction"
   ]
  },
  {
   "cell_type": "markdown",
   "metadata": {},
   "source": [
    "### Weighted MAXSAT (3-SAT)\n",
    "\n",
    "Given a boolean formula in conjunctive normal form as well as weights to each of those clauses, find the set of boolean variables that maximize the weights. For example, if a clause with weight 3 is true, then add 3 to the total weight. Each clause can contain exactly three boolean variables."
   ]
  },
  {
   "cell_type": "markdown",
   "metadata": {},
   "source": [
    "### QAOA\n",
    "\n",
    "Quantum Approximation Optimization Algorithm is designed to approximate the Quantum Adiabatic Algorithm by splitting up different time slices into separate gates. Since it approximates the QAA, as the number of gates increases to infinity, the QAOA result will also increase to the ideal state."
   ]
  },
  {
   "cell_type": "markdown",
   "metadata": {},
   "source": [
    "## Methods"
   ]
  },
  {
   "cell_type": "markdown",
   "metadata": {},
   "source": [
    "### Encoding Qubits\n",
    "\n",
    "The bitstring corresponding to the output of QAOA will be the input qubits. Each qubit will either be 1 for true or 0 for false. "
   ]
  },
  {
   "cell_type": "markdown",
   "metadata": {},
   "source": [
    "### Cost and Driver Hamiltonians *C* and *B*\n",
    "\n",
    "(3-SAT) $C = \\sum_{m=0}^M I-\\frac{1}{2}((I_1 \\pm Z_1)\\otimes (I_2 \\pm Z_2)\\otimes (I_3 \\pm Z_3))$\n",
    "\n",
    "(2-SAT) $C = \\sum_{m=0}^M I-\\frac{1}{2}((I_1 \\pm Z_1)\\otimes (I_2 \\pm Z_2))$\n",
    "\n",
    "$B = \\sum_{k=0}^{n-1} X_k$"
   ]
  },
  {
   "cell_type": "markdown",
   "metadata": {},
   "source": [
    "### Driver Gate W\n",
    "\n",
    "$W(\\beta) = \\mul_{k=1}^n$ H_k"
   ]
  },
  {
   "cell_type": "code",
   "execution_count": 4,
   "metadata": {},
   "outputs": [],
   "source": [
    "def ref_gate(n, qc, q, beta):\n",
    "    # W gate\n",
    "    for i in range(0,n):\n",
    "        qc.h(q[i])\n",
    "    for i in range(1,n):\n",
    "        qc.cx(q[i],q[0])\n",
    "        \n",
    "    # apply phase gate\n",
    "    qc.u1(2*beta, q[0])\n",
    "    \n",
    "    for i in range(n-1,0,-1):\n",
    "        qc.cx(q[i],q[0])\n",
    "    for i in range(0,n):\n",
    "        qc.h(q[i])"
   ]
  },
  {
   "cell_type": "markdown",
   "metadata": {},
   "source": [
    "### Cost Gate V\n",
    "\n",
    "$V(\\gamma) = ..."
   ]
  },
  {
   "cell_type": "code",
   "execution_count": 5,
   "metadata": {},
   "outputs": [],
   "source": [
    "def constraint_gate(n, qc, q, gamma, clauses):\n",
    "    # V gate\n",
    "    # 2-SAT\n",
    "    \n",
    "    # clause[0] is the weight\n",
    "    # clauses will be in form clauses[i] = [-1*x,y] with x and y refering to the qubits we act on, and a negative value\n",
    "    # means a NOT-x\n",
    "    # clauses are also 1-indexed, so be sure to subtract by 1 before reading them!\n",
    "    for clause in clauses:\n",
    "        weight = clause[0]\n",
    "        x = abs(clause[1]) - 1\n",
    "        x_not = clause[1] < 0\n",
    "        # see if the x boolean is a NOT-x\n",
    "        y = abs(clause[2]) - 1\n",
    "        y_not = clause[2] < 0\n",
    "        \n",
    "        \n",
    "        flip = 2*(x_not == y_not) - 1 # flips if x_not xor y_not\n",
    "        qc.cx(q[x],q[y])\n",
    "        qc.u1(flip*-1*gamma*weight,q[y])\n",
    "        qc.cx(q[x],q[y])\n",
    "\n",
    "        flip = -(2*(x_not)-1) # x\n",
    "        qc.u1(flip*-1*gamma*weight,q[x])\n",
    "\n",
    "        flip = -(2*(y_not)-1) # y\n",
    "        qc.u1(flip*-1*gamma*weight,q[y])"
   ]
  },
  {
   "cell_type": "markdown",
   "metadata": {},
   "source": [
    "### Classic Solver"
   ]
  },
  {
   "cell_type": "code",
   "execution_count": 7,
   "metadata": {},
   "outputs": [],
   "source": [
    "def classic(clauses, value):\n",
    "    value = value[::-1]\n",
    "    res = 0\n",
    "    \n",
    "    for clause in clauses:\n",
    "        weight = clause[0]\n",
    "        x = abs(clause[1]) - 1\n",
    "        x_not = clause[1] < 0\n",
    "        # see if the x boolean is a NOT-x\n",
    "        y = abs(clause[2]) - 1\n",
    "        y_not = clause[2] < 0\n",
    "        \n",
    "        result = ((value[x] == '1') != x_not) or ((value[y] == '1') != y_not)\n",
    "        if (result):\n",
    "            res += weight\n",
    "            \n",
    "    return res"
   ]
  },
  {
   "cell_type": "markdown",
   "metadata": {},
   "source": [
    "### Calculating the Expectation\n",
    "Expectation = <gamma,beta|C|gamma,beta>"
   ]
  },
  {
   "cell_type": "code",
   "execution_count": 37,
   "metadata": {},
   "outputs": [
    {
     "name": "stdout",
     "output_type": "stream",
     "text": [
      "Resulting bitstring after 1024 shot: {'001': 133, '101': 132, '111': 126, '100': 131, '000': 132, '110': 132, '011': 132, '010': 106}\n",
      "Expectation: 4.515625\n"
     ]
    }
   ],
   "source": [
    "def run_qaoa(qc,q,c,n,gamma,beta,clauses):\n",
    "    for i in range(n):\n",
    "        qc.h(q[i])\n",
    "    p = 1\n",
    "    for pp in range(p):\n",
    "        constraint_gate(n, qc, q, gamma, clauses)\n",
    "        ref_gate(n, qc, q, beta)\n",
    "\n",
    "def expectation(gamma, beta, clauses):\n",
    "    \n",
    "    n = 3\n",
    "    q = qiskit.QuantumRegister(n)\n",
    "    c = qiskit.ClassicalRegister(n)\n",
    "    qc = qiskit.QuantumCircuit(q,c)\n",
    "    # q[0..n-1] are input qubits\n",
    "    \n",
    "    run_qaoa(qc,q,c,n,gamma,beta,clauses)\n",
    "    \n",
    "    qc.measure(q, c)\n",
    "    \n",
    "    repetitions = 1024\n",
    "    job = qiskit.execute(qc, backend='local_qasm_simulator', shots=repetitions)\n",
    "    result = job.result().get_counts(qc)\n",
    "    \n",
    "    answer = 0\n",
    "    for key in result.keys():\n",
    "        probability = result[key] / repetitions\n",
    "        answer += probability * classic(clauses, key)\n",
    "        \n",
    "    #print(\"Resulting bitstring after 1024 shot: \"+str(result))\n",
    "\n",
    "    return answer\n",
    "    \n",
    "print(\"Expectation: \"+str(expectation(math.pi/6,math.pi/2, [[1,1,2],[2,-1,-2],[1,-1,2],[2,1,-2]])))"
   ]
  },
  {
   "cell_type": "markdown",
   "metadata": {},
   "source": [
    "### Classically Optimizing *γ* and *β*\n",
    "\n",
    "Randomly pick γ and β and find the best input bitstring.\n",
    "\n",
    "We chose this method over gradient descent because there are several local maximums for our cost function."
   ]
  },
  {
   "cell_type": "code",
   "execution_count": 48,
   "metadata": {},
   "outputs": [
    {
     "name": "stdout",
     "output_type": "stream",
     "text": [
      "Resulting bitstring after 1024 shot: {'001': 239, '101': 133, '111': 114, '100': 9, '000': 162, '110': 10, '011': 226, '010': 131}\n",
      "Expectation: 3.224609375\n",
      "Resulting bitstring after 1 shot: {'111': 1}\n",
      "Cost of this bitstring(big is better): 3\n",
      "Resulting bitstring after 1024 shot: {'001': 271, '101': 121, '000': 128, '111': 134, '011': 225, '110': 2, '010': 143}\n",
      "Expectation: 3.2646484375\n",
      "Resulting bitstring after 1 shot: {'010': 1}\n",
      "Cost of this bitstring(big is better): 3\n",
      "Resulting bitstring after 1024 shot: {'001': 239, '101': 129, '011': 233, '111': 134, '100': 17, '000': 129, '110': 15, '010': 128}\n",
      "Expectation: 3.216796875\n",
      "Resulting bitstring after 1 shot: {'011': 1}\n",
      "Cost of this bitstring(big is better): 3\n",
      "Resulting bitstring after 1024 shot: {'001': 1, '101': 125, '111': 131, '100': 248, '000': 123, '110': 244, '010': 152}\n",
      "Expectation: 2.7587890625\n",
      "Resulting bitstring after 1 shot: {'101': 1}\n",
      "Cost of this bitstring(big is better): 3\n",
      "Resulting bitstring after 1024 shot: {'001': 205, '101': 122, '011': 180, '111': 126, '100': 66, '000': 136, '110': 60, '010': 129}\n",
      "Expectation: 3.1357421875\n",
      "Resulting bitstring after 1 shot: {'011': 1}\n",
      "Cost of this bitstring(big is better): 3\n",
      "Resulting bitstring after 1024 shot: {'001': 252, '101': 125, '111': 134, '100': 4, '000': 128, '110': 13, '011': 223, '010': 145}\n",
      "Expectation: 3.2421875\n",
      "Resulting bitstring after 1 shot: {'001': 1}\n",
      "Cost of this bitstring(big is better): 4\n",
      "Resulting bitstring after 1024 shot: {'001': 67, '101': 119, '011': 59, '111': 129, '100': 188, '000': 139, '110': 201, '010': 122}\n",
      "Expectation: 2.8818359375\n",
      "Resulting bitstring after 1 shot: {'111': 1}\n",
      "Cost of this bitstring(big is better): 3\n",
      "Resulting bitstring after 1024 shot: {'001': 107, '101': 121, '011': 86, '111': 119, '100': 172, '000': 124, '110': 170, '010': 125}\n",
      "Expectation: 2.9365234375\n",
      "Resulting bitstring after 1 shot: {'111': 1}\n",
      "Cost of this bitstring(big is better): 3\n",
      "And the best bitstring is 001 with a cost of 4\n"
     ]
    }
   ],
   "source": [
    "cnf = [[1,1,3],[1,-1,-2],[1,1,-3],[1,-3,2]]\n",
    "max = 0\n",
    "best_bitstring = \"\"\n",
    "for i in range(8):\n",
    "    beta = rand.uniform(0,math.pi)\n",
    "    gamma = rand.uniform(0,math.pi/2)\n",
    "    print(\"Expectation: \"+str(expectation(gamma,beta,cnf)))\n",
    "    \n",
    "    n = 3\n",
    "    q = qiskit.QuantumRegister(n)\n",
    "    c = qiskit.ClassicalRegister(n)\n",
    "    qc = qiskit.QuantumCircuit(q,c)\n",
    "    \n",
    "    run_qaoa(qc,q,c,n,gamma,beta,cnf)\n",
    "    qc.measure(q,c)\n",
    "    job = qiskit.execute(qc, backend='local_qasm_simulator', shots=1)\n",
    "    result = job.result().get_counts(qc)\n",
    "    print(\"Resulting bitstring after 1 shot: \"+str(result))\n",
    "    cost = classic(cnf,next(iter(result.keys())))\n",
    "    if max < cost:\n",
    "        max = cost\n",
    "        best_bitstring = next(iter(result.keys()))\n",
    "    print(\"Cost of this bitstring(big is better): \"+str(cost))\n",
    "    \n",
    "print(\"And the best bitstring is \"+ best_bitstring+\" with a cost of \"+str(max))"
   ]
  },
  {
   "cell_type": "markdown",
   "metadata": {},
   "source": [
    "### Plotting"
   ]
  },
  {
   "cell_type": "code",
   "execution_count": 20,
   "metadata": {},
   "outputs": [
    {
     "data": {
      "image/png": "[encoded data removed]",
      "text/plain": [
       "<Figure size 432x288 with 1 Axes>"
      ]
     },
     "metadata": {
      "needs_background": "light"
     },
     "output_type": "display_data"
    }
   ],
   "source": [
    "g = np.linspace(0, 2 * math.pi, 100)\n",
    "b = 5 * math.pi / 6\n",
    "'''cnf = [[1,1,2],[1,-1,2],[1,1,-2],[1,-1,-2],\n",
    "       [1,1,3],[1,-1,3],[2,1,-3],[3,-1,-3],\n",
    "       [1,2,3],[2,-2,3],[1,2,-3],[2,-2,-3]]'''\n",
    "cnf = [[1,1,3],[1,-1,-2],[1,1,-3],[1,-3,2]]\n",
    "\n",
    "# clause format is [weight,1st var, 2nd var]\n",
    "def f(x):\n",
    "    return expectation(x, b, cnf)\n",
    "\n",
    "plt.plot(g, np.array([f(x) for x in g]))\n",
    "plt.xlabel('gamma')\n",
    "plt.ylabel('expectation')\n",
    "plt.title('Effect of gamma on QAOA Weighted 2-SAT')\n",
    "plt.show()"
   ]
  },
  {
   "cell_type": "code",
   "execution_count": 21,
   "metadata": {},
   "outputs": [
    {
     "ename": "NameError",
     "evalue": "name 'ptl' is not defined",
     "output_type": "error",
     "traceback": [
      "\u001b[0;31m---------------------------------------------------------------------------\u001b[0m",
      "\u001b[0;31mNameError\u001b[0m                                 Traceback (most recent call last)",
      "\u001b[0;32m<ipython-input-21-2b8370719fcb>\u001b[0m in \u001b[0;36m<module>\u001b[0;34m()\u001b[0m\n\u001b[1;32m     11\u001b[0m \u001b[0mplt\u001b[0m\u001b[0;34m.\u001b[0m\u001b[0mxlabel\u001b[0m\u001b[0;34m(\u001b[0m\u001b[0;34m'gamma'\u001b[0m\u001b[0;34m)\u001b[0m\u001b[0;34m\u001b[0m\u001b[0m\n\u001b[1;32m     12\u001b[0m \u001b[0mplt\u001b[0m\u001b[0;34m.\u001b[0m\u001b[0mylabel\u001b[0m\u001b[0;34m(\u001b[0m\u001b[0;34m'beta'\u001b[0m\u001b[0;34m)\u001b[0m\u001b[0;34m\u001b[0m\u001b[0m\n\u001b[0;32m---> 13\u001b[0;31m \u001b[0mptl\u001b[0m\u001b[0;34m.\u001b[0m\u001b[0mzlabel\u001b[0m\u001b[0;34m(\u001b[0m\u001b[0;34m'expectation'\u001b[0m\u001b[0;34m)\u001b[0m\u001b[0;34m\u001b[0m\u001b[0m\n\u001b[0m\u001b[1;32m     14\u001b[0m \u001b[0;34m\u001b[0m\u001b[0m\n\u001b[1;32m     15\u001b[0m \u001b[0mplt\u001b[0m\u001b[0;34m.\u001b[0m\u001b[0mtitle\u001b[0m\u001b[0;34m(\u001b[0m\u001b[0;34m'Effect of gamma on QAOA Weighted 2-SAT'\u001b[0m\u001b[0;34m)\u001b[0m\u001b[0;34m\u001b[0m\u001b[0m\n",
      "\u001b[0;31mNameError\u001b[0m: name 'ptl' is not defined"
     ]
    },
    {
     "data": {
      "image/png": "[encoded data removed]",
      "text/plain": [
       "<Figure size 432x288 with 1 Axes>"
      ]
     },
     "metadata": {
      "needs_background": "light"
     },
     "output_type": "display_data"
    }
   ],
   "source": [
    "g = np.linspace(0, 2 * math.pi, 40)\n",
    "b = np.linspace(0, math.pi, 10)\n",
    "gamma, beta = np.meshgrid(g, b)\n",
    "cnf = [[1,1,3],[1,-1,-2],[1,1,-3],[1,-3,2]]\n",
    "\n",
    "\n",
    "fig = plt.figure()\n",
    "ax = fig.add_subplot(111, projection='3d')\n",
    "ax.plot_surface(gamma, beta, np.array([expectation(x, y, cnf) for x,y in zip(np.ravel(gamma), np.ravel(beta))]).reshape(gamma.shape))\n",
    "\n",
    "plt.xlabel('gamma')\n",
    "plt.ylabel('beta')\n",
    "\n",
    "plt.title('Effect of gamma on QAOA Weighted 2-SAT')\n",
    "plt.show()"
   ]
  },
  {
   "cell_type": "markdown",
   "metadata": {},
   "source": [
    "## Results and Discussion\n",
    "\n",
    "### Generate the following figures, and interpret them.  Make sure to include error bars.\n",
    "\n",
    "blah\n",
    "\n",
    "### For several random problem instances, plot the cost of the output state.\n",
    "\n",
    "#### Plot average, maximum and minimum cost.  How do these compare?\n",
    "\n",
    "blah\n",
    "\n",
    "### Fix all parameters except one, and plot cost as a function of the free parameter.\n",
    "\n",
    "#### Will a classical optimizer always find the best solution?\n",
    "\n",
    "blah"
   ]
  },
  {
   "cell_type": "markdown",
   "metadata": {},
   "source": [
    "## Conclusion\n",
    "\n",
    "### Was QAOA effective in finding decent solutions?\n",
    "\n",
    "no\n",
    "\n",
    "### What % of the optimum solution did QAOA achieve?\n",
    "\n",
    "0%\n",
    "\n",
    "### Does the technique have any issues?\n",
    "\n",
    "maybe"
   ]
  },
  {
   "cell_type": "code",
   "execution_count": 60,
   "metadata": {},
   "outputs": [],
   "source": [
    "### Weighted 3SAT\n",
    "def constraint_3sat(n, qc, q, gamma, clauses):\n",
    "    for clause in clauses:\n",
    "\n",
    "        weight = clause[0]\n",
    "        x = abs(clause[1]) - 1\n",
    "        x_not = clause[1] < 0\n",
    "        # see if the x boolean is a NOT-x\n",
    "        y = abs(clause[2]) - 1\n",
    "        y_not = clause[2] < 0\n",
    "        z = abs(clause[3]) - 1\n",
    "        z_not = clause[3] < 0\n",
    "\n",
    "        flip = 2*((x_not+y_not+z_not)%2 == 0) - 1\n",
    "        qc.cx(q[z],q[x])\n",
    "        qc.cx(q[y],q[x])\n",
    "        qc.u1(flip*-1 * gamma * weight,q[x])\n",
    "        qc.cx(q[y],q[x])\n",
    "        qc.cx(q[z],q[x])\n",
    "\n",
    "        flip = 2*(z_not == y_not) - 1 # flips if z_not xor y_not\n",
    "        qc.cx(q[y],q[z])\n",
    "        qc.u1(flip * -1 * gamma * weight,q[z])\n",
    "        qc.cx(q[y],q[z])\n",
    "\n",
    "        flip = 2*(x_not == y_not) - 1 # flips if x_not xor y_not\n",
    "        qc.cx(q[y],q[x])\n",
    "        qc.u1(flip * -1 * gamma * weight,q[x])\n",
    "        qc.cx(q[y],q[x])\n",
    "\n",
    "        flip = 2*(x_not == z_not) - 1 # flips if z_not xor x_not\n",
    "        qc.cx(q[z],q[x])\n",
    "        qc.u1(flip * -1 * gamma * weight,q[x])\n",
    "        qc.cx(q[z],q[x])\n",
    "\n",
    "        flip = -(2*(x_not)-1) # x\n",
    "        qc.u1(flip*-1*gamma*weight,q[x])\n",
    "\n",
    "        flip = -(2*(y_not)-1) # y\n",
    "        qc.u1(flip*-1*gamma*weight,q[y])\n",
    "\n",
    "        flip = -(2*(z_not)-1) # z\n",
    "        qc.u1(flip*-1*gamma*weight,q[z])\n"
   ]
  },
  {
   "cell_type": "code",
   "execution_count": 50,
   "metadata": {},
   "outputs": [],
   "source": [
    "def classic_3sat(clauses, value):\n",
    "    value = value[::-1]\n",
    "    res = 0\n",
    "    \n",
    "    for clause in clauses:\n",
    "        weight = clause[0]\n",
    "        x = abs(clause[1]) - 1\n",
    "        x_not = clause[1] < 0\n",
    "        # see if the x boolean is a NOT-x\n",
    "        y = abs(clause[2]) - 1\n",
    "        y_not = clause[2] < 0\n",
    "        z = abs(clause[3]) - 1\n",
    "        z_not = clause[3] < 0\n",
    "        \n",
    "        result = ((value[x] == '1') != x_not) or ((value[y] == '1') != y_not) or ((value[z] == '1') != z_not)\n",
    "        if (result):\n",
    "            res += weight\n",
    "            \n",
    "    return res"
   ]
  },
  {
   "cell_type": "code",
   "execution_count": 58,
   "metadata": {},
   "outputs": [],
   "source": [
    "def run_qaoa_3sat(qc,q,c,n,gamma,beta,clauses):\n",
    "    for i in range(n):\n",
    "        qc.h(q[i])\n",
    "    p = 1\n",
    "    for pp in range(p):\n",
    "        constraint_3sat(n, qc, q, gamma, clauses)\n",
    "        ref_gate(n, qc, q, beta)\n",
    "\n",
    "def expectation_3sat(gamma, beta, clauses):\n",
    "    \n",
    "    n = 4\n",
    "    q = qiskit.QuantumRegister(n)\n",
    "    c = qiskit.ClassicalRegister(n)\n",
    "    qc = qiskit.QuantumCircuit(q,c)\n",
    "    # q[0..n-1] are input qubits\n",
    "    \n",
    "    run_qaoa_3sat(qc,q,c,n,gamma,beta,clauses)\n",
    "    \n",
    "    qc.measure(q, c)\n",
    "    \n",
    "    repetitions = 1024\n",
    "    job = qiskit.execute(qc, backend='local_qasm_simulator', shots=repetitions)\n",
    "    result = job.result().get_counts(qc)\n",
    "    \n",
    "    answer = 0\n",
    "    for key in result.keys():\n",
    "        probability = result[key] / repetitions\n",
    "        answer += probability * classic_3sat(clauses, key)\n",
    "        \n",
    "    #print(\"Resulting bitstring after 1024 shot: \"+str(result))\n",
    "\n",
    "    return answer\n",
    "#print(\"Expectation: \"+str(expectation(math.pi/6,math.pi/2, [[1,1,2,3],[2,1,-2,3],[1,-1,2,4],[2,1,-2,3]])))"
   ]
  },
  {
   "cell_type": "code",
   "execution_count": 64,
   "metadata": {},
   "outputs": [
    {
     "name": "stdout",
     "output_type": "stream",
     "text": [
      "Expectation: 10.5927734375\n",
      "Resulting bitstring after 1 shot: {'111': 1}\n",
      "Cost of this bitstring(big is better): 10\n",
      "Expectation: 10.4091796875\n",
      "Resulting bitstring after 1 shot: {'110': 1}\n",
      "Cost of this bitstring(big is better): 8\n",
      "Expectation: 10.5224609375\n",
      "Resulting bitstring after 1 shot: {'011': 1}\n",
      "Cost of this bitstring(big is better): 10\n",
      "Expectation: 10.5380859375\n",
      "Resulting bitstring after 1 shot: {'101': 1}\n",
      "Cost of this bitstring(big is better): 9\n",
      "Expectation: 10.43359375\n",
      "Resulting bitstring after 1 shot: {'011': 1}\n",
      "Cost of this bitstring(big is better): 10\n",
      "Expectation: 10.48046875\n",
      "Resulting bitstring after 1 shot: {'011': 1}\n",
      "Cost of this bitstring(big is better): 10\n",
      "Expectation: 10.4423828125\n",
      "Resulting bitstring after 1 shot: {'110': 1}\n",
      "Cost of this bitstring(big is better): 8\n",
      "Expectation: 10.498046875\n",
      "Resulting bitstring after 1 shot: {'000': 1}\n",
      "Cost of this bitstring(big is better): 9\n",
      "And the best bitstring is 111 with a cost of 10\n"
     ]
    }
   ],
   "source": [
    "cnf = [[1,1,2,3],[2,1,2,-3],[1,1,-2,3],[3,1,-2,-3],[2,-1,2,3],[1,-1,2,-3],[1,-1,-2,3],[1,-1,-2,-3]]\n",
    "max = 0\n",
    "best_bitstring = \"\"\n",
    "for i in range(8):\n",
    "    beta = rand.uniform(0,math.pi)\n",
    "    gamma = rand.uniform(0,math.pi/2)\n",
    "    print(\"Expectation: \"+str(expectation_3sat(gamma,beta,cnf)))\n",
    "    \n",
    "    n = 3\n",
    "    q = qiskit.QuantumRegister(n)\n",
    "    c = qiskit.ClassicalRegister(n)\n",
    "    qc = qiskit.QuantumCircuit(q,c)\n",
    "    \n",
    "    run_qaoa_3sat(qc,q,c,n,gamma,beta,cnf)\n",
    "    qc.measure(q,c)\n",
    "    job = qiskit.execute(qc, backend='local_qasm_simulator', shots=1)\n",
    "    result = job.result().get_counts(qc)\n",
    "    print(\"Resulting bitstring after 1 shot: \"+str(result))\n",
    "    cost = classic(cnf,next(iter(result.keys())))\n",
    "    if max < cost:\n",
    "        max = cost\n",
    "        best_bitstring = next(iter(result.keys()))\n",
    "    print(\"Cost of this bitstring(big is better): \"+str(cost))\n",
    "    \n",
    "print(\"And the best bitstring is \"+ best_bitstring+\" with a cost of \"+str(max))"
   ]
  },
  {
   "cell_type": "code",
   "execution_count": 65,
   "metadata": {},
   "outputs": [
    {
     "data": {
      "image/png": "[encoded data removed]",
      "text/plain": [
       "<Figure size 432x288 with 1 Axes>"
      ]
     },
     "metadata": {
      "needs_background": "light"
     },
     "output_type": "display_data"
    }
   ],
   "source": [
    "g = np.linspace(0, 2 * math.pi, 100)\n",
    "b = 5 * math.pi / 6\n",
    "cnf = [[1,1,2,3],[2,1,2,-3],[1,1,-2,3],[3,1,-2,-3],[2,-1,2,3],[1,-1,2,-3],[1,-1,-2,3],[1,-1,-2,-3]]\n",
    "\n",
    "# clause format is [weight,1st var, 2nd var]\n",
    "def f(x):\n",
    "    return expectation_3sat(x, b, cnf)\n",
    "\n",
    "plt.plot(g, np.array([f(x) for x in g]))\n",
    "plt.xlabel('gamma')\n",
    "plt.ylabel('expectation')\n",
    "plt.title('Effect of gamma on QAOA Weighted 2-SAT')\n",
    "plt.show()"
   ]
  }
 ],
 "metadata": {
  "kernelspec": {
   "display_name": "Python 3",
   "language": "python",
   "name": "python3"
  },
  "language_info": {
   "codemirror_mode": {
    "name": "ipython",
    "version": 3
   },
   "file_extension": ".py",
   "mimetype": "text/x-python",
   "name": "python",
   "nbconvert_exporter": "python",
   "pygments_lexer": "ipython3",
   "version": "3.5.2"
  }
 },
 "nbformat": 4,
 "nbformat_minor": 2
}
