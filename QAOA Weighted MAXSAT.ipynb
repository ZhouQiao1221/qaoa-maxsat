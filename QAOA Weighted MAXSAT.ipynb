{
 "cells": [
  {
   "cell_type": "markdown",
   "metadata": {},
   "source": [
    "# QAOA Weighted MAXSAT\n",
    "\n",
    "Gahwon Lee, Andrew Tan"
   ]
  },
  {
   "cell_type": "code",
   "execution_count": 1,
   "metadata": {},
   "outputs": [],
   "source": [
    "import qiskit\n",
    "import numpy as np\n",
    "import math\n",
    "import matplotlib.pyplot as plt\n",
    "from mpl_toolkits.mplot3d import Axes3D"
   ]
  },
  {
   "cell_type": "markdown",
   "metadata": {},
   "source": [
    "## Introduction"
   ]
  },
  {
   "cell_type": "markdown",
   "metadata": {},
   "source": [
    "### Weighted MAXSAT (3-SAT)\n",
    "\n",
    "Given a boolean formula in conjunctive normal form as well as weights to each of those clauses, find the set of boolean variables that maximize the weights. For example, if a clause with weight 3 is true, then add 3 to the total weight. Each clause can contain exactly three boolean variables."
   ]
  },
  {
   "cell_type": "markdown",
   "metadata": {},
   "source": [
    "### QAOA\n",
    "\n",
    "Quantum Approximation Optimization Algorithm is designed to approximate the Quantum Adiabatic Algorithm by splitting up different time slices into separate gates. Since it approximates the QAA, as the number of gates increases to infinity, the QAOA result will also increase to the ideal state."
   ]
  },
  {
   "cell_type": "markdown",
   "metadata": {},
   "source": [
    "## Methods"
   ]
  },
  {
   "cell_type": "markdown",
   "metadata": {},
   "source": [
    "### Encoding Qubits\n",
    "\n",
    "The bitstring corresponding to the output of QAOA will be the input qubits. Each qubit will either be 1 for true or 0 for false. "
   ]
  },
  {
   "cell_type": "markdown",
   "metadata": {},
   "source": [
    "### Cost and Driver Hamiltonians *C* and *B*\n",
    "\n",
    "(3-SAT) $C = \\sum_{m=0}^M I-\\frac{1}{2}((I_1 \\pm Z_1)\\otimes (I_2 \\pm Z_2)\\otimes (I_3 \\pm Z_3))$\n",
    "\n",
    "(2-SAT) $C = \\sum_{m=0}^M I-\\frac{1}{2}((I_1 \\pm Z_1)\\otimes (I_2 \\pm Z_2))$\n",
    "\n",
    "$B = \\sum_{k=0}^{n-1} X_k$"
   ]
  },
  {
   "cell_type": "markdown",
   "metadata": {},
   "source": [
    "### Driver Gate W\n",
    "\n",
    "$W(\\beta) = \\mul_{k=1}^n H_k"
   ]
  },
  {
   "cell_type": "code",
   "execution_count": 2,
   "metadata": {},
   "outputs": [],
   "source": [
    "def ref_gate(n, qc, q, beta):\n",
    "    # W gate\n",
    "    for i in range(0,n):\n",
    "        qc.h(q[i])\n",
    "    for i in range(1,n):\n",
    "        qc.cx(q[i],q[0])\n",
    "        \n",
    "    # apply phase gate\n",
    "    qc.u1(2*beta, q[0])\n",
    "    \n",
    "    for i in range(n-1,0,-1):\n",
    "        qc.cx(q[i],q[0])\n",
    "    for i in range(0,n):\n",
    "        qc.h(q[i])"
   ]
  },
  {
   "cell_type": "markdown",
   "metadata": {},
   "source": [
    "### Cost Gate V\n",
    "\n",
    "$V(\\gamma) = ..."
   ]
  },
  {
   "cell_type": "code",
   "execution_count": 3,
   "metadata": {},
   "outputs": [],
   "source": [
    "def constraint_gate(n, qc, q, gamma, clauses):\n",
    "    # V gate\n",
    "    # 2-SAT\n",
    "    \n",
    "    # clause[0] is the weight\n",
    "    # clauses will be in form clauses[i] = [-1*x,y] with x and y refering to the qubits we act on, and a negative value\n",
    "    # means a NOT-x\n",
    "    # clauses are also 1-indexed, so be sure to subtract by 1 before reading them!\n",
    "    for clause in clauses:\n",
    "        weight = clause[0]\n",
    "        x = abs(clause[1]) - 1\n",
    "        x_not = clause[1] < 0\n",
    "        # see if the x boolean is a NOT-x\n",
    "        y = abs(clause[2]) - 1\n",
    "        y_not = clause[2] < 0\n",
    "        \n",
    "        \n",
    "        flip = 2*(x_not == y_not) - 1 # flips if x_not xor y_not\n",
    "        qc.cx(q[x],q[y])\n",
    "        qc.u1(flip*-1*gamma*weight,q[y])\n",
    "        qc.cx(q[x],q[y])\n",
    "\n",
    "        flip = -(2*(x_not)-1) # x\n",
    "        qc.u1(flip*-1*gamma*weight,q[x])\n",
    "\n",
    "        flip = -(2*(y_not)-1) # y\n",
    "        qc.u1(flip*-1*gamma*weight,q[y])"
   ]
  },
  {
   "cell_type": "markdown",
   "metadata": {},
   "source": [
    "### Classic Solver"
   ]
  },
  {
   "cell_type": "code",
   "execution_count": 4,
   "metadata": {},
   "outputs": [],
   "source": [
    "def classic(clauses, value):\n",
    "    value = value[::-1]\n",
    "    res = 0\n",
    "    \n",
    "    for clause in clauses:\n",
    "        weight = clause[0]\n",
    "        x = abs(clause[1]) - 1\n",
    "        x_not = clause[1] < 0\n",
    "        # see if the x boolean is a NOT-x\n",
    "        y = abs(clause[2]) - 1\n",
    "        y_not = clause[2] < 0\n",
    "        \n",
    "        result = ((value[x] == '1') != x_not) or ((value[y] == '1') != y_not)\n",
    "        if (result):\n",
    "            res += weight\n",
    "            \n",
    "    return res"
   ]
  },
  {
   "cell_type": "markdown",
   "metadata": {},
   "source": [
    "### Calculating the Expectation\n",
    "Expectation = <gamma,beta|C|gamma,beta>"
   ]
  },
  {
   "cell_type": "code",
   "execution_count": 5,
   "metadata": {},
   "outputs": [
    {
     "name": "stdout",
     "output_type": "stream",
     "text": [
      "Expectation: 4.5146484375\n"
     ]
    }
   ],
   "source": [
    "def expectation(gamma, beta, clauses):\n",
    "    n = 3\n",
    "    q = qiskit.QuantumRegister(n)\n",
    "    c = qiskit.ClassicalRegister(n)\n",
    "    qc = qiskit.QuantumCircuit(q,c)\n",
    "    # q[0..n-1] are input qubits\n",
    "    for i in range(n):\n",
    "        qc.h(q[i])\n",
    "    p = 1\n",
    "    for pp in range(p):\n",
    "        constraint_gate(n, qc, q, gamma, clauses)\n",
    "        ref_gate(n, qc, q, beta)\n",
    "    \n",
    "    qc.measure(q, c)\n",
    "    \n",
    "    repetitions = 1024\n",
    "    job = qiskit.execute(qc, backend='local_qasm_simulator', shots=repetitions)\n",
    "    result = job.result().get_counts(qc)\n",
    "    \n",
    "    answer = 0\n",
    "    for key in result.keys():\n",
    "        probability = result[key] / repetitions\n",
    "        answer += probability * classic(clauses, key)\n",
    "        \n",
    "    \n",
    "    return answer\n",
    "    print(\"Results: \"+str(result));\n",
    "print(\"Expectation: \"+str(expectation(math.pi/6,math.pi/2, [[1,1,2],[2,-1,-2],[1,-1,2],[2,1,-2]])))"
   ]
  },
  {
   "cell_type": "markdown",
   "metadata": {},
   "source": [
    "### Classically Optimizing *γ* and *β*"
   ]
  },
  {
   "cell_type": "code",
   "execution_count": 16,
   "metadata": {},
   "outputs": [
    {
     "name": "stdout",
     "output_type": "stream",
     "text": [
      "Warning: Maximum number of function evaluations has been exceeded.\n"
     ]
    }
   ],
   "source": [
    "def targetFunc(params):\n",
    "    gamma, beta = params\n",
    "    clauses = [[0,0,0],[0,0,1],[0,1,0]]\n",
    "    return -qaoa(gamma, beta, clauses)\n",
    "\n",
    "from scipy.optimize import minimize\n",
    "\n",
    "x0 = np.array([1.3, 0.7])\n",
    "res = minimize(targetFunc, x0, method='nelder-mead', options={'xtol': 1e-8, 'disp': True})"
   ]
  },
  {
   "cell_type": "markdown",
   "metadata": {},
   "source": [
    "### Plotting"
   ]
  },
  {
   "cell_type": "code",
   "execution_count": 9,
   "metadata": {},
   "outputs": [
    {
     "data": {
      "image/png": "[encoded data removed]",
      "text/plain": [
       "<Figure size 432x288 with 1 Axes>"
      ]
     },
     "metadata": {
      "needs_background": "light"
     },
     "output_type": "display_data"
    }
   ],
   "source": [
    "g = np.linspace(0, 2 * math.pi, 40)\n",
    "b = np.linspace(0, math.pi, 10)\n",
    "gamma, beta = np.meshgrid(g, b)\n",
    "\n",
    "def f(x):\n",
    "    return expectation(x, math.pi/3, [[1,1,2],[1,-1,-2]])\n",
    "\n",
    "fig = plt.figure()\n",
    "ax = fig.add_subplot(111, projection='3d')\n",
    "ax.plot_surface(gamma, beta, np.array([expectation(x, y, [[1,1,3],[2,-1,-2],[2,1,-3],[1,-3,-2],[3,1,-3],[2,-1,3]]) for x,y in zip(np.ravel(gamma), np.ravel(beta))]).reshape(gamma.shape))\n",
    "\n",
    "#plt.xlabel('gamma')\n",
    "#plt.ylabel('expectation')\n",
    "#plt.title('Effect of gamma on QAOA Weighted 2-SAT')\n",
    "plt.show()"
   ]
  },
  {
   "cell_type": "markdown",
   "metadata": {},
   "source": [
    "## Results and Discussion\n",
    "\n",
    "### Generate the following figures, and interpret them.  Make sure to include error bars.\n",
    "\n",
    "blah\n",
    "\n",
    "### For several random problem instances, plot the cost of the output state.\n",
    "\n",
    "#### Plot average, maximum and minimum cost.  How do these compare?\n",
    "\n",
    "blah\n",
    "\n",
    "### Fix all parameters except one, and plot cost as a function of the free parameter.\n",
    "\n",
    "#### Will a classical optimizer always find the best solution?\n",
    "\n",
    "blah"
   ]
  },
  {
   "cell_type": "markdown",
   "metadata": {},
   "source": [
    "## Conclusion\n",
    "\n",
    "### Was QAOA effective in finding decent solutions?\n",
    "\n",
    "no\n",
    "\n",
    "### What % of the optimum solution did QAOA achieve?\n",
    "\n",
    "0%\n",
    "\n",
    "### Does the technique have any issues?\n",
    "\n",
    "maybe"
   ]
  }
 ],
 "metadata": {
  "kernelspec": {
   "display_name": "Python 3",
   "language": "python",
   "name": "python3"
  },
  "language_info": {
   "codemirror_mode": {
    "name": "ipython",
    "version": 3
   },
   "file_extension": ".py",
   "mimetype": "text/x-python",
   "name": "python",
   "nbconvert_exporter": "python",
   "pygments_lexer": "ipython3",
   "version": "3.5.2"
  }
 },
 "nbformat": 4,
 "nbformat_minor": 2
}
