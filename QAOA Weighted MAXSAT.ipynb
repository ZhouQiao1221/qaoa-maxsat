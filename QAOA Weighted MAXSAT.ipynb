{
 "cells": [
  {
   "cell_type": "markdown",
   "metadata": {},
   "source": [
    "# QAOA Weighted MAXSAT\n",
    "\n",
    "Gahwon Lee, Andrew Tan"
   ]
  },
  {
   "cell_type": "code",
   "execution_count": 9,
   "metadata": {},
   "outputs": [],
   "source": [
    "import qiskit\n",
    "import numpy as np"
   ]
  },
  {
   "cell_type": "markdown",
   "metadata": {},
   "source": [
    "## Introduction"
   ]
  },
  {
   "cell_type": "markdown",
   "metadata": {},
   "source": [
    "### Weighted MAXSAT (3-SAT)\n",
    "\n",
    "Given a boolean formula in conjunctive normal form as well as weights to each of those clauses, find the set of boolean variables that maximize the weights. For example, if a clause with weight 3 is true, then add 3 to the total weight. Each clause can contain exactly three boolean variables."
   ]
  },
  {
   "cell_type": "markdown",
   "metadata": {},
   "source": [
    "### QAOA\n",
    "\n",
    "Quantum Approximation Optimization Algorithm is designed to approximate the Quantum Adiabatic Algorithm by splitting up different time slices into separate gates. Since it approximates the QAA, as the number of gates increases to infinity, the QAOA result will also increase to the ideal state."
   ]
  },
  {
   "cell_type": "markdown",
   "metadata": {},
   "source": [
    "## Methods"
   ]
  },
  {
   "cell_type": "markdown",
   "metadata": {},
   "source": [
    "### Encoding Qubits\n",
    "\n",
    "The bitstring corresponding to the output of QAOA will be the input qubits. Each qubit will either be 1 for true or 0 for false. "
   ]
  },
  {
   "cell_type": "markdown",
   "metadata": {},
   "source": [
    "### Cost and Driver Hamiltonians *C* and *B*\n",
    "\n",
    "(3-SAT) $C = \\sum_{m=1}^M I-\\frac{1}{2}((I_1 \\pm Z_1)\\otimes (I_2 \\pm Z_2)\\otimes (I_3 \\pm Z_3))$\n",
    "\n",
    "(2-SAT) $C = \\sum_{m=1}^M I-\\frac{1}{2}((I_1 \\pm Z_1)\\otimes (I_2 \\pm Z_2))$\n",
    "\n",
    "$B = \\sum_{k=1}^n X_k$"
   ]
  },
  {
   "cell_type": "markdown",
   "metadata": {},
   "source": [
    "### Driver Gate W\n",
    "\n",
    "$W(\\beta) = \\mul_{k=1}^n H_k"
   ]
  },
  {
   "cell_type": "code",
   "execution_count": 2,
   "metadata": {},
   "outputs": [],
   "source": [
    "def ref_gate(n, qc, q, beta):\n",
    "    # W gate\n",
    "    for i in range(0,n):\n",
    "        qc.h(q[i])\n",
    "    for i in range(0,n):\n",
    "        qc.cx(q[i],q[1])\n",
    "        \n",
    "    # apply phase gate\n",
    "    qc.u1(2*beta, q[1])\n",
    "    \n",
    "    for i in range(n-1,-1,-1):\n",
    "        qc.cx(q[i],q[1])\n",
    "    for i in range(0,n):\n",
    "        qc.h(q[i])"
   ]
  },
  {
   "cell_type": "markdown",
   "metadata": {},
   "source": [
    "### Cost Gate V\n",
    "\n",
    "$V(\\gamma) = ..."
   ]
  },
  {
   "cell_type": "code",
   "execution_count": null,
   "metadata": {},
   "outputs": [],
   "source": [
    "def constraint_gate(n, qc, q, gamma, x, y, clauses):\n",
    "    # V gate\n",
    "    # 2-SAT\n",
    "    \n",
    "    flip = 1 # adjust this flip variable\n",
    "    qc.cx(q[x],q[y])\n",
    "    qc.u1(flip*-1*gamma*weight,q[y])\n",
    "    qc.cx(q[x],q[y])\n",
    "    \n",
    "    flip = 1 # adjust this flip variable\n",
    "    qc.u1(flip*-1*gamma*weight,q[x])\n",
    "    \n",
    "    flip = 1 # adjust this flip variable\n",
    "    qc.u1(flip*-1*gamma*weight,q[y])\n",
    "    \n",
    "    '''\n",
    "    # 3-SAT\n",
    "    for clause in clauses:\n",
    "        # clause[0] signifies x ... clause[2]=z\n",
    "        flip = 2 * ((clause[0] + clause[1] + clause[2]) % 2)-1 #if flip is true we do -1 otherwise 1\n",
    "        \n",
    "        qc.cx(q[1],q[0])\n",
    "        qc.cx(q[2],q[0])\n",
    "        qc.cx(q[3],q[0])\n",
    "        qc.u1(flip * -1*2*gamma,q[0])\n",
    "        qc.cx(q[3],q[0])\n",
    "        qc.cx(q[2],q[0])\n",
    "        qc.cx(q[1],q[0])\n",
    "        \n",
    "        flip = -2*((clause[1] + clause[2]) %2)+1\n",
    "        \n",
    "        qc.cx(q[2],q[0])\n",
    "        qc.cx(q[3],q[0])\n",
    "        qc.u1(flip * -1*2*gamma,q[0])\n",
    "        qc.cx(q[3],q[0])\n",
    "        qc.cx(q[2],q[0])\n",
    "        \n",
    "        flip = -2*((clause[0] + clause[2]) %2)+1\n",
    "        \n",
    "        qc.cx(q[1],q[0])\n",
    "        qc.cx(q[3],q[0])\n",
    "        qc.u1(flip * -1*2*gamma,q[0])\n",
    "        qc.cx(q[3],q[0])\n",
    "        qc.cx(q[1],q[0])\n",
    "        \n",
    "        flip = -2*((clause[0] + clause[1]) %2)+1\n",
    "        \n",
    "        qc.cx(q[1],q[0])\n",
    "        qc.cx(q[2],q[0])\n",
    "        qc.u1(flip * -1*2*gamma,q[0])\n",
    "        qc.cx(q[2],q[0])\n",
    "        qc.cx(q[1],q[0])\n",
    "        \n",
    "        qc.u1((clause[2] * -2 + 1) * gamma,q[3])\n",
    "        qc.u1((clause[1] * -2 + 1) * gamma,q[2])\n",
    "        qc.u1((clause[0] * -2 + 1) * gamma,q[1])\n",
    "        \n",
    "    '''"
   ]
  },
  {
   "cell_type": "markdown",
   "metadata": {},
   "source": [
    "### Calculating the Expectation\n",
    "Expectation = <gamma,beta|C|gamma,beta>"
   ]
  },
  {
   "cell_type": "code",
   "execution_count": 14,
   "metadata": {},
   "outputs": [],
   "source": [
    "def expectation(gamma, beta, clauses):\n",
    "    n = 3\n",
    "    q = qiskit.QuantumRegister(n+1)\n",
    "    c = qiskit.ClassicalRegister(n+1)\n",
    "    qc = qiskit.QuantumCircuit(q,c)\n",
    "    # q[0] is output qubit\n",
    "    # q[1..n] are input qubits\n",
    "    \n",
    "    p = 1\n",
    "    for pp in range(p):\n",
    "        constraint_gate(n, qc, q, gamma, clauses)\n",
    "        ref_gate(n, qc, q, beta)\n",
    "    \n",
    "    qc.measure(q, c)\n",
    "    \n",
    "    repetitions = 128\n",
    "    job = qiskit.execute(qc, backend='local_qasm_simulator', shots=repetitions)\n",
    "    result = job.result().get_counts(qc)\n",
    "    \n",
    "    answer = 0\n",
    "    for key in result.keys():\n",
    "        if key[0] == '1':\n",
    "            answer += result[key] / repetitions\n",
    "    \n",
    "    return answer"
   ]
  },
  {
   "cell_type": "markdown",
   "metadata": {},
   "source": [
    "### Classically Optimizing *γ* and *β*"
   ]
  },
  {
   "cell_type": "code",
   "execution_count": 16,
   "metadata": {},
   "outputs": [
    {
     "name": "stdout",
     "output_type": "stream",
     "text": [
      "Warning: Maximum number of function evaluations has been exceeded.\n"
     ]
    }
   ],
   "source": [
    "def targetFunc(params):\n",
    "    gamma, beta = params\n",
    "    clauses = [[0,0,0],[0,0,1],[0,1,0]]\n",
    "    return -qaoa(gamma, beta, clauses)\n",
    "\n",
    "from scipy.optimize import minimize\n",
    "\n",
    "x0 = np.array([1.3, 0.7])\n",
    "res = minimize(targetFunc, x0, method='nelder-mead', options={'xtol': 1e-8, 'disp': True})"
   ]
  },
  {
   "cell_type": "markdown",
   "metadata": {},
   "source": [
    "## Results and Discussion\n",
    "\n",
    "### Generate the following figures, and interpret them.  Make sure to include error bars.\n",
    "\n",
    "blah\n",
    "\n",
    "### For several random problem instances, plot the cost of the output state.\n",
    "\n",
    "#### Plot average, maximum and minimum cost.  How do these compare?\n",
    "\n",
    "blah\n",
    "\n",
    "### Fix all parameters except one, and plot cost as a function of the free parameter.\n",
    "\n",
    "#### Will a classical optimizer always find the best solution?\n",
    "\n",
    "blah"
   ]
  },
  {
   "cell_type": "markdown",
   "metadata": {},
   "source": [
    "## Conclusion\n",
    "\n",
    "### Was QAOA effective in finding decent solutions?\n",
    "\n",
    "no\n",
    "\n",
    "### What % of the optimum solution did QAOA achieve?\n",
    "\n",
    "0%\n",
    "\n",
    "### Does the technique have any issues?\n",
    "\n",
    "maybe"
   ]
  }
 ],
 "metadata": {
  "kernelspec": {
   "display_name": "Python 3",
   "language": "python",
   "name": "python3"
  },
  "language_info": {
   "codemirror_mode": {
    "name": "ipython",
    "version": 3
   },
   "file_extension": ".py",
   "mimetype": "text/x-python",
   "name": "python",
   "nbconvert_exporter": "python",
   "pygments_lexer": "ipython3",
   "version": "3.5.2"
  }
 },
 "nbformat": 4,
 "nbformat_minor": 2
}
